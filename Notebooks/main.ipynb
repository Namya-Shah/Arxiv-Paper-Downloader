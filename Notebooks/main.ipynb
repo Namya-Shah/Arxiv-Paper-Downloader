{
 "cells": [
  {
   "cell_type": "code",
   "execution_count": null,
   "id": "6789e004",
   "metadata": {},
   "outputs": [],
   "source": [
    "from arxiv import Client, Search, SortCriterion\n",
    "from tqdm.auto import tqdm\n",
    "\n",
    "# Constructing the API Client\n",
    "client = Client()\n",
    "\n",
    "# Searching for the 10 most recent articles\n",
    "search = Search(\n",
    "    query=\"Artificial Intelligence\", # Change the query according to needs\n",
    "    max_results=10, # Change the number according to needs\n",
    "    sort_by=SortCriterion.SubmittedDate # Sorted by submission date\n",
    ")\n",
    "\n",
    "# Directory to download files\n",
    "directory = \"<Enter full directory>\"\n",
    "\n",
    "results = client.results(search)\n",
    "\n",
    "for r in tqdm(results):\n",
    "    print(r.title)\n",
    "    r.download_pdf(dirpath=directory, filename=f\"{r.title}.pdf\")\n",
    "\n",
    "all_results = list(results)\n",
    "print([r.title for r in all_results])"
   ]
  },
  {
   "cell_type": "code",
   "execution_count": null,
   "id": "ce67e5c1",
   "metadata": {},
   "outputs": [],
   "source": [
    "# Searching arxiv papers by id\n",
    "search_by_id = Search(id_list=[\"1804.07612\"])\n",
    "result = next(client.results(search_by_id))\n",
    "print(result.title)\n",
    "\n",
    "# Downloading file\n",
    "if f'{result.title}.pdf' in os.listdir(directory):\n",
    "    print(\"Paper already exists.\")\n",
    "else:\n",
    "    result.download_pdf(dirpath=directory, filename=f\"{result.title}.pdf\")"
   ]
  }
 ],
 "metadata": {
  "kernelspec": {
   "display_name": "arxiv-downloader",
   "language": "python",
   "name": "python3"
  },
  "language_info": {
   "codemirror_mode": {
    "name": "ipython",
    "version": 3
   },
   "file_extension": ".py",
   "mimetype": "text/x-python",
   "name": "python",
   "nbconvert_exporter": "python",
   "pygments_lexer": "ipython3",
   "version": "3.13.5"
  }
 },
 "nbformat": 4,
 "nbformat_minor": 5
}
