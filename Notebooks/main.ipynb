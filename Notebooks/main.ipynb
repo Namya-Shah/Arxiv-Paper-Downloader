{
 "cells": [
  {
   "cell_type": "code",
   "execution_count": null,
   "id": "6789e004",
   "metadata": {},
   "outputs": [
    {
     "name": "stderr",
     "output_type": "stream",
     "text": [
      "0it [00:00, ?it/s]"
     ]
    },
    {
     "name": "stdout",
     "output_type": "stream",
     "text": [
      "Streaming 4D Visual Geometry Transformer\n"
     ]
    },
    {
     "name": "stderr",
     "output_type": "stream",
     "text": [
      "1it [00:03,  3.08s/it]"
     ]
    },
    {
     "name": "stdout",
     "output_type": "stream",
     "text": [
      "How Many Instructions Can LLMs Follow at Once?\n"
     ]
    },
    {
     "name": "stderr",
     "output_type": "stream",
     "text": [
      "2it [00:05,  2.42s/it]"
     ]
    },
    {
     "name": "stdout",
     "output_type": "stream",
     "text": [
      "DrafterBench: Benchmarking Large Language Models for Tasks Automation in Civil Engineering\n"
     ]
    },
    {
     "name": "stderr",
     "output_type": "stream",
     "text": [
      "3it [00:09,  3.51s/it]"
     ]
    },
    {
     "name": "stdout",
     "output_type": "stream",
     "text": [
      "AirLLM: Diffusion Policy-based Adaptive LoRA for Remote Fine-Tuning of LLM over the Air\n"
     ]
    },
    {
     "name": "stderr",
     "output_type": "stream",
     "text": [
      "4it [00:10,  2.32s/it]"
     ]
    },
    {
     "name": "stdout",
     "output_type": "stream",
     "text": [
      "Recursive Bound-Constrained AdaGrad with Applications to Multilevel and Domain Decomposition Minimization\n"
     ]
    },
    {
     "name": "stderr",
     "output_type": "stream",
     "text": [
      "5it [00:11,  1.76s/it]"
     ]
    },
    {
     "name": "stdout",
     "output_type": "stream",
     "text": [
      "Scaling the memory wall using mixed-precision -- HPG-MxP on an exascale machine\n"
     ]
    },
    {
     "name": "stderr",
     "output_type": "stream",
     "text": [
      "6it [00:11,  1.40s/it]"
     ]
    },
    {
     "name": "stdout",
     "output_type": "stream",
     "text": [
      "Low-redshift analogues of cosmic noon galaxies as laboratories for clumpy star formation\n"
     ]
    },
    {
     "name": "stderr",
     "output_type": "stream",
     "text": [
      "7it [00:12,  1.21s/it]"
     ]
    },
    {
     "name": "stdout",
     "output_type": "stream",
     "text": [
      "COLIBRI Fuzzy Model: Color Linguistic-Based Representation and Interpretation\n"
     ]
    },
    {
     "name": "stderr",
     "output_type": "stream",
     "text": [
      "8it [00:14,  1.47s/it]"
     ]
    },
    {
     "name": "stdout",
     "output_type": "stream",
     "text": [
      "Illuminating the Three Dogmas of Reinforcement Learning under Evolutionary Light\n"
     ]
    },
    {
     "name": "stderr",
     "output_type": "stream",
     "text": [
      "9it [00:14,  1.10s/it]"
     ]
    },
    {
     "name": "stdout",
     "output_type": "stream",
     "text": [
      "Chain of Thought Monitorability: A New and Fragile Opportunity for AI Safety\n"
     ]
    },
    {
     "name": "stderr",
     "output_type": "stream",
     "text": [
      "10it [00:15,  1.53s/it]\n"
     ]
    },
    {
     "name": "stdout",
     "output_type": "stream",
     "text": [
      "[]\n",
      "Revisiting Small Batch Training for Deep Neural Networks\n",
      "Paper already exists.\n"
     ]
    }
   ],
   "source": [
    "from arxiv import Client, Search, SortCriterion\n",
    "import os\n",
    "from tqdm.auto import tqdm\n",
    "\n",
    "# Constructing the API Client\n",
    "client = Client()\n",
    "\n",
    "# Searching for the 10 most recent articles\n",
    "search = Search(\n",
    "    query=\"Artificial Intelligence\",\n",
    "    max_results=10,\n",
    "    sort_by=SortCriterion.SubmittedDate\n",
    ")\n",
    "\n",
    "# Directory to download files\n",
    "directory = \"<Enter full directory>\"\n",
    "\n",
    "results = client.results(search)\n",
    "\n",
    "for r in tqdm(results):\n",
    "    print(r.title)\n",
    "    r.download_pdf(dirpath=directory, filename=f\"{r.title}.pdf\")\n",
    "\n",
    "all_results = list(results)\n",
    "print([r.title for r in all_results])\n",
    "\n",
    "# Searching arxiv papers by id\n",
    "search_by_id = Search(id_list=[\"1804.07612\"])\n",
    "result = next(client.results(search_by_id))\n",
    "print(result.title)\n",
    "\n",
    "# Downloading file\n",
    "if f'{result.title}.pdf' in os.listdir(directory):\n",
    "    print(\"Paper already exists.\")\n",
    "else:\n",
    "    result.download_pdf(dirpath=directory, filename=f\"{result.title}.pdf\")"
   ]
  }
 ],
 "metadata": {
  "kernelspec": {
   "display_name": "arxiv-downloader",
   "language": "python",
   "name": "python3"
  },
  "language_info": {
   "codemirror_mode": {
    "name": "ipython",
    "version": 3
   },
   "file_extension": ".py",
   "mimetype": "text/x-python",
   "name": "python",
   "nbconvert_exporter": "python",
   "pygments_lexer": "ipython3",
   "version": "3.13.5"
  }
 },
 "nbformat": 4,
 "nbformat_minor": 5
}
